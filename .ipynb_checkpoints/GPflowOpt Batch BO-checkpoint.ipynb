{
 "cells": [
  {
   "attachments": {},
   "cell_type": "markdown",
   "metadata": {},
   "source": [
    "## General theory\n",
    "\n",
    "### First of all - what are we doing here? \n",
    "\n",
    "I would say that we are proposing a **\"new\" method for experimental design**. Ok - it is not very new, but it has not been widely applied in this field and it has never been applied to this particular material (that is where the novelty lies). \n",
    "Maybe [this paper](https://ieeexplore.ieee.org/stamp/stamp.jsp?tp=&arnumber=8957442) best puts Bayesian optimization in the context of experimental design and compares it to alternatives (such as factorial design or central composite design). \n",
    "\n",
    "### Bayesian experimental design - using Bayesian optimization for experimental design!\n",
    "\n",
    "I found [this cool blogpost](https://desirivanova.com/post/boed-intro/) on Bayesian experimental design. I think this is what we are doing here too - instead of (or hand-in-hand with) the static factorial design we are trying out something new. One of the key differences between them is that BO is sequential (aka adaptive) - we learn from our data sample at the time and it helps us guide the experiments. On the other hand, factorial design is static - you need to collect all the data and then do the analysis.\n",
    "\n",
    "<img src=\"staticVSsequential.PNG\" width=\"400\"/>\n",
    "\n",
    "It will be interesting to read the two main papers that they mention in the blogpost [Ryan et. al (2016)](https://core.ac.uk/download/pdf/45314624.pdf) which gives an overview of Bayesian experimental design. But also very interesting new work from [Foster et. al (2021)](https://proceedings.mlr.press/v139/foster21a.html) where they propose using some deep learning approaches as an alternative to the classic bayesian optimization. (they are veeeery technical though so maybe later when we have time!)\n",
    "\n",
    "### What is experimental design??\n",
    "\n",
    "I was not so familiar with the topic of experimental design (you probably know more about it) so I had to google it. I found the start of the above blogpost useful:\n",
    "\n",
    "_What questions should we ask in an online survey? Which point should we query next in an active learning loop? Where should we place sensors, e.g. to detect faults and defects most efficiently? These, and many more, seemingly distinct questions constitute the same fundamental problem—designing experiments to collect data that will help us learn about an underlying process._\n",
    "\n",
    "In our case the question we are trying to answer can be framed as:\n",
    "\n",
    "___What printing parameters should we use in order to successfully print the newly composed material?___\n",
    "\n",
    "With that in mind here is some high-level clarification about the work in your SA2 that can be helpful to see the bigger picture. \n",
    "\n",
    "- **The experiment is:**\n",
    "printing useful scafolds with the new material.\n",
    "- **Input variables are:**\n",
    "pressure, speed, needle gauge\n",
    "- **Goal of the experiment:**\n",
    "printing the material with high material accuracy \n",
    "\n",
    "Overall, in your SA2.1 I think you want to see what are the benefits of the Bayesian experimental design as compared to the full-factorial design. And you can use the insights found here for the other materials too in SA2.2 and SA2.3 . Importantly - if the Bayesian experiment design shows no benefits for your analysis you can continue with the rest of the work and the full-factorial design as a backup."
   ]
  },
  {
   "cell_type": "markdown",
   "metadata": {},
   "source": [
    "## Technical theory \n",
    "### Bayesian optimization: behind the scenes\n",
    "\n",
    "I had to brush up on my understanding of Bayesian optimization a little bit and I summarize it here:\n",
    "\n",
    "#### O in Bayesian Optimization\n",
    "\n",
    "What does BO do? The secret is in the O - optimization. It is a mathematical method for global optimization of a \"black-box\" function. \n",
    "\n",
    "Optimization means that we are looking for a minimum/maximum of a function.\n",
    "Global optimization (in my understanding) means that we are searching throughout "
   ]
  },
  {
   "cell_type": "code",
   "execution_count": 1,
   "metadata": {},
   "outputs": [],
   "source": [
    "import numpy as np\n",
    "import tensorflow as tf\n",
    "import matplotlib.pyplot as plt\n",
    "import gpflow\n",
    "import trieste\n",
    "\n",
    "from trieste.ask_tell_optimization import AskTellOptimizer\n",
    "from trieste.bayesian_optimizer import Record\n",
    "from trieste.data import Dataset\n",
    "from trieste.models.gpflow.models import GaussianProcessRegression\n",
    "from trieste.objectives.utils import mk_observer\n",
    "from trieste.observer import OBJECTIVE\n",
    "from trieste.space import Box\n",
    "from util.plotting import plot_function_2d, plot_bo_points\n",
    "\n",
    "np.random.seed(1234)\n",
    "tf.random.set_seed(1234)"
   ]
  },
  {
   "cell_type": "code",
   "execution_count": 2,
   "metadata": {},
   "outputs": [],
   "source": [
    "def build_model(data, kernel_func=None):\n",
    "    \"\"\"kernel_func should be a function that takes variance as a single input parameter\"\"\"\n",
    "    variance = tf.math.reduce_variance(data.observations)\n",
    "    if kernel_func is None:\n",
    "        kernel = gpflow.kernels.Matern52(variance=variance)\n",
    "    else:\n",
    "        kernel = kernel_func(variance)\n",
    "    gpr = gpflow.models.GPR(data.astuple(), kernel, noise_variance=1e-5)\n",
    "    gpflow.set_trainable(gpr.likelihood, False)\n",
    "\n",
    "    return GaussianProcessRegression(gpr)\n",
    "\n",
    "def plot_ask_tell_results(ask_tell_result):\n",
    "    dataset = ask_tell_result.try_get_final_dataset()\n",
    "    query_points = dataset.query_points.numpy()\n",
    "    observations = dataset.observations.numpy()\n",
    "    fig, ax = plt.subplots()\n",
    "\n",
    "    sc = ax.scatter(query_points[:, 0], query_points[:,1], c=observations)\n",
    "    ax.set_ylabel('Pressure', loc='top')\n",
    "    ax.set_xlabel('Speed', loc='left')\n",
    "    cbar = fig.colorbar(sc)\n",
    "    cbar.set_label(\"Material Accuracy\", loc='top')\n",
    "\n",
    "    plt.show()"
   ]
  },
  {
   "cell_type": "markdown",
   "metadata": {},
   "source": [
    "# Feasibility study \n",
    "\n",
    "Here we are gonna explore if it is feasible to run Bayesian optimization in the context of oprimizing 3D-printing of cdECM-NP material.\n",
    "\n",
    "We are going to assume that we have 3 input parameters: \n",
    "- speed, \n",
    "- pressure, \n",
    "- needle gauge.\n",
    "\n",
    "And we are optimizing for 1 output parameter:\n",
    "- material accuracy.\n",
    "\n",
    "We also assume that we have previously conducted the full-factorial study with **8 initial datapoints** - we use this to initialize the bayesian optimizer."
   ]
  },
  {
   "cell_type": "markdown",
   "metadata": {},
   "source": [
    "## Our search-space has at least 3 dimensions"
   ]
  },
  {
   "cell_type": "code",
   "execution_count": 3,
   "metadata": {},
   "outputs": [],
   "source": [
    "\n",
    "search_space = Box([1, 1], [12, 7])\n",
    "num_initial_points = 11\n",
    "initial_data = trieste.data.Dataset(\n",
    "    tf.constant([[1.3, 4.5], [12, 5], [1.6, 7], [5,5], [6,1], [1.2, 7], [1, 5.5], [12,5], [6,7], [1.2,3.5], [5,5]], dtype ='float64'), \n",
    "    tf.constant([[0.384], [0.462], [0.768], [0.332], [0.738], [1.404], [1.555], [0.462], [0.207], [0.149], [0.332]], dtype ='float64'))\n",
    "#observer = trieste.observer.filter_finite(initial_data.query_points, initial_data.observations)"
   ]
  },
  {
   "cell_type": "code",
   "execution_count": 4,
   "metadata": {},
   "outputs": [],
   "source": [
    "acq_rule = trieste.acquisition.rule.DiscreteThompsonSampling(\n",
    "    num_search_space_samples=1000, num_query_points=5\n",
    ")"
   ]
  },
  {
   "cell_type": "code",
   "execution_count": 5,
   "metadata": {},
   "outputs": [
    {
     "name": "stdout",
     "output_type": "stream",
     "text": [
      "Ask Trieste for configuration\n",
      "New Configuration to Try # 1\n",
      "Speed (mm/s):  10.8\n",
      "Pressure (bars):  5.7 \n",
      "\n",
      "New Configuration to Try # 2\n",
      "Speed (mm/s):  8.6\n",
      "Pressure (bars):  4.1 \n",
      "\n",
      "New Configuration to Try # 3\n",
      "Speed (mm/s):  3.7\n",
      "Pressure (bars):  3.2 \n",
      "\n",
      "New Configuration to Try # 4\n",
      "Speed (mm/s):  2.7\n",
      "Pressure (bars):  4.5 \n",
      "\n",
      "New Configuration to Try # 5\n",
      "Speed (mm/s):  5.4\n",
      "Pressure (bars):  3.3 \n",
      "\n"
     ]
    },
    {
     "data": {
      "image/png": "[encoded data removed]",
      "text/plain": [
       "<Figure size 432x288 with 2 Axes>"
      ]
     },
     "metadata": {
      "needs_background": "light"
     },
     "output_type": "display_data"
    }
   ],
   "source": [
    "model = build_model(initial_data)\n",
    "ask_tell = AskTellOptimizer(search_space, initial_data, model, acq_rule)\n",
    "\n",
    "print(\"Ask Trieste for configuration\")\n",
    "new_config = ask_tell.ask()\n",
    "for i in range(len(new_config)):\n",
    "    print('New Configuration to Try #', i + 1)\n",
    "    print('Speed (mm/s): ', np.round(new_config[i][0].numpy(),1))\n",
    "    print('Pressure (bars): ', np.round(new_config[i][1].numpy(),1), '\\n')\n",
    "\n",
    "plot_ask_tell_results(ask_tell.to_result())"
   ]
  }
 ],
 "metadata": {
  "kernelspec": {
   "display_name": "Python 3",
   "language": "python",
   "name": "python3"
  },
  "language_info": {
   "codemirror_mode": {
    "name": "ipython",
    "version": 3
   },
   "file_extension": ".py",
   "mimetype": "text/x-python",
   "name": "python",
   "nbconvert_exporter": "python",
   "pygments_lexer": "ipython3",
   "version": "3.8.5"
  }
 },
 "nbformat": 4,
 "nbformat_minor": 4
}

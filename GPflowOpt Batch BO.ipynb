{
 "cells": [
  {
   "cell_type": "code",
   "execution_count": 1,
   "metadata": {},
   "outputs": [],
   "source": [
    "import numpy as np\n",
    "import tensorflow as tf\n",
    "import matplotlib.pyplot as plt\n",
    "import gpflow\n",
    "import trieste\n",
    "\n",
    "from trieste.ask_tell_optimization import AskTellOptimizer\n",
    "from trieste.bayesian_optimizer import Record\n",
    "from trieste.data import Dataset\n",
    "from trieste.models.gpflow.models import GaussianProcessRegression\n",
    "from trieste.objectives.utils import mk_observer\n",
    "from trieste.observer import OBJECTIVE\n",
    "from trieste.space import Box\n",
    "from util.plotting import plot_function_2d, plot_bo_points\n",
    "\n",
    "np.random.seed(1234)\n",
    "tf.random.set_seed(1234)"
   ]
  },
  {
   "cell_type": "code",
   "execution_count": 2,
   "metadata": {},
   "outputs": [],
   "source": [
    "def build_model(data, kernel_func=None):\n",
    "    \"\"\"kernel_func should be a function that takes variance as a single input parameter\"\"\"\n",
    "    variance = tf.math.reduce_variance(data.observations)\n",
    "    if kernel_func is None:\n",
    "        kernel = gpflow.kernels.Matern52(variance=variance)\n",
    "    else:\n",
    "        kernel = kernel_func(variance)\n",
    "    gpr = gpflow.models.GPR(data.astuple(), kernel, noise_variance=1e-5)\n",
    "    gpflow.set_trainable(gpr.likelihood, False)\n",
    "\n",
    "    return GaussianProcessRegression(gpr)\n",
    "\n",
    "def plot_ask_tell_results(ask_tell_result):\n",
    "    dataset = ask_tell_result.try_get_final_dataset()\n",
    "    query_points = dataset.query_points.numpy()\n",
    "    observations = dataset.observations.numpy()\n",
    "    fig, ax = plt.subplots()\n",
    "\n",
    "    sc = ax.scatter(query_points[:, 0], query_points[:,1], c=observations)\n",
    "    ax.set_ylabel('Pressure', loc='top')\n",
    "    ax.set_xlabel('Speed', loc='left')\n",
    "    cbar = fig.colorbar(sc)\n",
    "    cbar.set_label(\"Material Accuracy\", loc='top')\n",
    "\n",
    "    plt.show()"
   ]
  },
  {
   "cell_type": "code",
   "execution_count": 3,
   "metadata": {},
   "outputs": [],
   "source": [
    "search_space = Box([1, 1], [12, 7])\n",
    "num_initial_points = 11\n",
    "initial_data = trieste.data.Dataset(\n",
    "    tf.constant([[1.3, 4.5], [12, 5], [1.6, 7], [5,5], [6,1], [1.2, 7], [1, 5.5], [12,5], [6,7], [1.2,3.5], [5,5]], dtype ='float64'), \n",
    "    tf.constant([[0.384], [0.462], [0.768], [0.332], [0.738], [1.404], [1.555], [0.462], [0.207], [0.149], [0.332]], dtype ='float64'))\n",
    "#observer = trieste.observer.filter_finite(initial_data.query_points, initial_data.observations)"
   ]
  },
  {
   "cell_type": "code",
   "execution_count": 4,
   "metadata": {},
   "outputs": [],
   "source": [
    "acq_rule = trieste.acquisition.rule.DiscreteThompsonSampling(\n",
    "    num_search_space_samples=1000, num_query_points=5\n",
    ")"
   ]
  },
  {
   "cell_type": "code",
   "execution_count": 6,
   "metadata": {},
   "outputs": [
    {
     "name": "stdout",
     "output_type": "stream",
     "text": [
      "Ask Trieste for configuration\n",
      "New Configuration to Try # 1\n",
      "Speed (mm/s):  10.75\n",
      "Pressure (bars):  5.2 \n",
      "\n",
      "New Configuration to Try # 2\n",
      "Speed (mm/s):  10.48\n",
      "Pressure (bars):  4.84 \n",
      "\n",
      "New Configuration to Try # 3\n",
      "Speed (mm/s):  9.27\n",
      "Pressure (bars):  2.18 \n",
      "\n",
      "New Configuration to Try # 4\n",
      "Speed (mm/s):  4.29\n",
      "Pressure (bars):  3.61 \n",
      "\n",
      "New Configuration to Try # 5\n",
      "Speed (mm/s):  10.29\n",
      "Pressure (bars):  6.84 \n",
      "\n"
     ]
    },
    {
     "data": {
      "image/png": "[encoded data removed]",
      "text/plain": [
       "<Figure size 432x288 with 2 Axes>"
      ]
     },
     "metadata": {
      "needs_background": "light"
     },
     "output_type": "display_data"
    }
   ],
   "source": [
    "model = build_model(initial_data)\n",
    "ask_tell = AskTellOptimizer(search_space, initial_data, model, acq_rule)\n",
    "\n",
    "print(\"Ask Trieste for configuration\")\n",
    "new_config = ask_tell.ask()\n",
    "for i in range(len(new_config)):\n",
    "    print('New Configuration to Try #', i + 1)\n",
    "    print('Speed (mm/s): ', np.round(new_config[i][0].numpy(),1))\n",
    "    print('Pressure (bars): ', np.round(new_config[i][1].numpy(),1), '\\n')\n",
    "\n",
    "plot_ask_tell_results(ask_tell.to_result())"
   ]
  }
 ],
 "metadata": {
  "kernelspec": {
   "display_name": "Python 3",
   "language": "python",
   "name": "python3"
  },
  "language_info": {
   "codemirror_mode": {
    "name": "ipython",
    "version": 3
   },
   "file_extension": ".py",
   "mimetype": "text/x-python",
   "name": "python",
   "nbconvert_exporter": "python",
   "pygments_lexer": "ipython3",
   "version": "3.8.5"
  }
 },
 "nbformat": 4,
 "nbformat_minor": 4
}
